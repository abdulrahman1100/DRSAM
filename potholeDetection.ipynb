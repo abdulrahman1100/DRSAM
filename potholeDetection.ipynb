{
  "nbformat": 4,
  "nbformat_minor": 0,
  "metadata": {
    "colab": {
      "name": "potholeDetection.ipynb",
      "provenance": [],
      "collapsed_sections": [],
      "authorship_tag": "ABX9TyPbkGTgoL4KZmrTt9KS45d2",
      "include_colab_link": true
    },
    "kernelspec": {
      "name": "python3",
      "display_name": "Python 3"
    },
    "language_info": {
      "name": "python"
    }
  },
  "cells": [
    {
      "cell_type": "markdown",
      "metadata": {
        "id": "view-in-github",
        "colab_type": "text"
      },
      "source": [
        "<a href=\"https://colab.research.google.com/github/abdulrahman1100/DRSAM/blob/main/potholeDetection.ipynb\" target=\"_parent\"><img src=\"https://colab.research.google.com/assets/colab-badge.svg\" alt=\"Open In Colab\"/></a>"
      ]
    },
    {
      "cell_type": "code",
      "metadata": {
        "id": "MEuaG3xuLWdu"
      },
      "source": [
        "!pip install -U -q PyDrive\n",
        "from pydrive.auth import GoogleAuth\n",
        "from pydrive.drive import GoogleDrive\n",
        "from google.colab import auth\n",
        "from oauth2client.client import GoogleCredentials\n"
      ],
      "execution_count": null,
      "outputs": []
    },
    {
      "cell_type": "code",
      "metadata": {
        "id": "MF9w5CdjQ03_"
      },
      "source": [
        "auth.authenticate_user()\n",
        "gauth = GoogleAuth()\n",
        "gauth.credentials = GoogleCredentials.get_application_default()\n",
        "drive = GoogleDrive(gauth)"
      ],
      "execution_count": null,
      "outputs": []
    },
    {
      "cell_type": "code",
      "metadata": {
        "id": "Bf4STU3nSOm2"
      },
      "source": [
        "# https://drive.google.com/file/d//view?usp=sharing\n",
        "fileDownloaded = drive.CreateFile({'id':'1edBve0TvEfOBBB-e-mT1Niq2cTVMVuaj'})"
      ],
      "execution_count": null,
      "outputs": []
    },
    {
      "cell_type": "code",
      "metadata": {
        "colab": {
          "base_uri": "https://localhost:8080/"
        },
        "id": "8iogJ90r_D27",
        "outputId": "22564002-0e56-481b-c1c5-36c099e02eb6"
      },
      "source": [
        "from google.colab import drive\n",
        "from pathlib import Path\n",
        "import sys\n",
        "drive.mount(\"/content/drive\", force_remount=True)\n",
        "\n",
        "zip_ref = zipfile.ZipFile(\"/content/drive/MyDrive/Pothole.zip\", 'r')\n",
        "zip_ref.extractall(\"/tmp\")\n",
        "zip_ref.close()"
      ],
      "execution_count": 27,
      "outputs": [
        {
          "output_type": "stream",
          "text": [
            "Mounted at /content/drive\n"
          ],
          "name": "stdout"
        }
      ]
    },
    {
      "cell_type": "code",
      "metadata": {
        "colab": {
          "base_uri": "https://localhost:8080/"
        },
        "id": "nVA7rnGLAbSp",
        "outputId": "6e7f1b2c-3bdf-4597-8673-dbb05483a692"
      },
      "source": [
        "!ls /content/drive/MyDrive/RoadCondition/\n",
        "import os\n"
      ],
      "execution_count": 52,
      "outputs": [
        {
          "output_type": "stream",
          "text": [
            "bad1_sensors.csv  bad5_sensors.csv    good3_sensors.csv  good7_sensors.csv\n",
            "bad2_sensors.csv  good10_sensors.csv  good4_sensors.csv  good8_sensors.csv\n",
            "bad3_sensors.csv  good1_sensors.csv   good5_sensors.csv  good9_sensors.csv\n",
            "bad4_sensors.csv  good2_sensors.csv   good6_sensors.csv\n"
          ],
          "name": "stdout"
        }
      ]
    },
    {
      "cell_type": "code",
      "metadata": {
        "id": "ogFWrfgQPJqP"
      },
      "source": [
        "\n",
        "df1=pd.DataFrame()\n",
        "df2=pd.DataFrame()\n",
        "for i in range(1,6):\n",
        "  label='bad'+str(i)+'_sensors.csv'\n",
        "  # print(label)\n",
        "  path = os.path.join('/content/drive/MyDrive/RoadCondition/', label)\n",
        "  temp=pd.read_csv(path)\n",
        "  df1=df1.append(temp)\n",
        "\n",
        "for i in range(3,8):\n",
        "  label='good'+str(i)+'_sensors.csv'\n",
        "  # print(label)\n",
        "  path = os.path.join('/content/drive/MyDrive/RoadCondition/', label)\n",
        "  temp=pd.read_csv(path)\n",
        "  df2=df2.append(temp)\n",
        "  \n"
      ],
      "execution_count": 84,
      "outputs": []
    },
    {
      "cell_type": "code",
      "metadata": {
        "colab": {
          "base_uri": "https://localhost:8080/"
        },
        "id": "P8HGNoTKQOtU",
        "outputId": "44286044-85db-492b-9c58-23414a8bb341"
      },
      "source": [
        "df1.info()\n",
        "df2.info()\n",
        "\n",
        "# df2.describe()"
      ],
      "execution_count": 85,
      "outputs": [
        {
          "output_type": "stream",
          "text": [
            "<class 'pandas.core.frame.DataFrame'>\n",
            "Int64Index: 2099 entries, 0 to 297\n",
            "Data columns (total 10 columns):\n",
            " #   Column          Non-Null Count  Dtype  \n",
            "---  ------          --------------  -----  \n",
            " 0   timestamp       2099 non-null   float64\n",
            " 1   latitude        2099 non-null   float64\n",
            " 2   longitude       2099 non-null   float64\n",
            " 3   speed           2099 non-null   float64\n",
            " 4   accelerometerX  2099 non-null   float64\n",
            " 5   accelerometerY  2099 non-null   float64\n",
            " 6   accelerometerZ  2099 non-null   float64\n",
            " 7   gyroX           2099 non-null   float64\n",
            " 8   gyroY           2099 non-null   float64\n",
            " 9   gyroZ           2099 non-null   float64\n",
            "dtypes: float64(10)\n",
            "memory usage: 180.4 KB\n",
            "<class 'pandas.core.frame.DataFrame'>\n",
            "Int64Index: 5973 entries, 0 to 1025\n",
            "Data columns (total 10 columns):\n",
            " #   Column          Non-Null Count  Dtype  \n",
            "---  ------          --------------  -----  \n",
            " 0   timestamp       5973 non-null   float64\n",
            " 1   latitude        5973 non-null   float64\n",
            " 2   longitude       5973 non-null   float64\n",
            " 3   speed           5973 non-null   float64\n",
            " 4   accelerometerX  5973 non-null   float64\n",
            " 5   accelerometerY  5973 non-null   float64\n",
            " 6   accelerometerZ  5973 non-null   float64\n",
            " 7   gyroX           5973 non-null   float64\n",
            " 8   gyroY           5973 non-null   float64\n",
            " 9   gyroZ           5973 non-null   float64\n",
            "dtypes: float64(10)\n",
            "memory usage: 513.3 KB\n"
          ],
          "name": "stdout"
        }
      ]
    },
    {
      "cell_type": "code",
      "metadata": {
        "id": "svMHMyreTlng"
      },
      "source": [
        "df2=df2.iloc[0:2099]\n",
        "df1=df1.iloc[0:2099]"
      ],
      "execution_count": 86,
      "outputs": []
    },
    {
      "cell_type": "code",
      "metadata": {
        "colab": {
          "base_uri": "https://localhost:8080/"
        },
        "id": "CCF6SUC6TujP",
        "outputId": "675272a3-97c3-4b53-ae67-f6043a305567"
      },
      "source": [
        "df2.info()\n",
        "df1.info()"
      ],
      "execution_count": 88,
      "outputs": [
        {
          "output_type": "stream",
          "text": [
            "<class 'pandas.core.frame.DataFrame'>\n",
            "Int64Index: 2099 entries, 0 to 681\n",
            "Data columns (total 10 columns):\n",
            " #   Column          Non-Null Count  Dtype  \n",
            "---  ------          --------------  -----  \n",
            " 0   timestamp       2099 non-null   float64\n",
            " 1   latitude        2099 non-null   float64\n",
            " 2   longitude       2099 non-null   float64\n",
            " 3   speed           2099 non-null   float64\n",
            " 4   accelerometerX  2099 non-null   float64\n",
            " 5   accelerometerY  2099 non-null   float64\n",
            " 6   accelerometerZ  2099 non-null   float64\n",
            " 7   gyroX           2099 non-null   float64\n",
            " 8   gyroY           2099 non-null   float64\n",
            " 9   gyroZ           2099 non-null   float64\n",
            "dtypes: float64(10)\n",
            "memory usage: 180.4 KB\n",
            "<class 'pandas.core.frame.DataFrame'>\n",
            "Int64Index: 2099 entries, 0 to 297\n",
            "Data columns (total 10 columns):\n",
            " #   Column          Non-Null Count  Dtype  \n",
            "---  ------          --------------  -----  \n",
            " 0   timestamp       2099 non-null   float64\n",
            " 1   latitude        2099 non-null   float64\n",
            " 2   longitude       2099 non-null   float64\n",
            " 3   speed           2099 non-null   float64\n",
            " 4   accelerometerX  2099 non-null   float64\n",
            " 5   accelerometerY  2099 non-null   float64\n",
            " 6   accelerometerZ  2099 non-null   float64\n",
            " 7   gyroX           2099 non-null   float64\n",
            " 8   gyroY           2099 non-null   float64\n",
            " 9   gyroZ           2099 non-null   float64\n",
            "dtypes: float64(10)\n",
            "memory usage: 180.4 KB\n"
          ],
          "name": "stdout"
        }
      ]
    },
    {
      "cell_type": "code",
      "metadata": {
        "colab": {
          "base_uri": "https://localhost:8080/"
        },
        "id": "xDj_MMFMUfYj",
        "outputId": "afef20f0-fabc-4f3a-c6c7-b1221fc33536"
      },
      "source": [
        "#  here the step of adding label to the data \n",
        "df1['label']=0\n",
        "df2['label']=1\n",
        "df2.info()\n",
        "df1.info()"
      ],
      "execution_count": 89,
      "outputs": [
        {
          "output_type": "stream",
          "text": [
            "<class 'pandas.core.frame.DataFrame'>\n",
            "Int64Index: 2099 entries, 0 to 681\n",
            "Data columns (total 11 columns):\n",
            " #   Column          Non-Null Count  Dtype  \n",
            "---  ------          --------------  -----  \n",
            " 0   timestamp       2099 non-null   float64\n",
            " 1   latitude        2099 non-null   float64\n",
            " 2   longitude       2099 non-null   float64\n",
            " 3   speed           2099 non-null   float64\n",
            " 4   accelerometerX  2099 non-null   float64\n",
            " 5   accelerometerY  2099 non-null   float64\n",
            " 6   accelerometerZ  2099 non-null   float64\n",
            " 7   gyroX           2099 non-null   float64\n",
            " 8   gyroY           2099 non-null   float64\n",
            " 9   gyroZ           2099 non-null   float64\n",
            " 10  label           2099 non-null   int64  \n",
            "dtypes: float64(10), int64(1)\n",
            "memory usage: 196.8 KB\n",
            "<class 'pandas.core.frame.DataFrame'>\n",
            "Int64Index: 2099 entries, 0 to 297\n",
            "Data columns (total 11 columns):\n",
            " #   Column          Non-Null Count  Dtype  \n",
            "---  ------          --------------  -----  \n",
            " 0   timestamp       2099 non-null   float64\n",
            " 1   latitude        2099 non-null   float64\n",
            " 2   longitude       2099 non-null   float64\n",
            " 3   speed           2099 non-null   float64\n",
            " 4   accelerometerX  2099 non-null   float64\n",
            " 5   accelerometerY  2099 non-null   float64\n",
            " 6   accelerometerZ  2099 non-null   float64\n",
            " 7   gyroX           2099 non-null   float64\n",
            " 8   gyroY           2099 non-null   float64\n",
            " 9   gyroZ           2099 non-null   float64\n",
            " 10  label           2099 non-null   int64  \n",
            "dtypes: float64(10), int64(1)\n",
            "memory usage: 196.8 KB\n"
          ],
          "name": "stdout"
        }
      ]
    },
    {
      "cell_type": "code",
      "metadata": {
        "id": "liirV6O3Uucw"
      },
      "source": [
        "# final dataset \n",
        "DataSet=df1.append(df2)\n"
      ],
      "execution_count": 96,
      "outputs": []
    },
    {
      "cell_type": "code",
      "metadata": {
        "colab": {
          "base_uri": "https://localhost:8080/",
          "height": 204
        },
        "id": "zOcxzrtlU6F5",
        "outputId": "4f2195d9-106d-478b-f1ff-7fa387fd5d5d"
      },
      "source": [
        "DataSet.head()"
      ],
      "execution_count": 97,
      "outputs": [
        {
          "output_type": "execute_result",
          "data": {
            "text/html": [
              "<div>\n",
              "<style scoped>\n",
              "    .dataframe tbody tr th:only-of-type {\n",
              "        vertical-align: middle;\n",
              "    }\n",
              "\n",
              "    .dataframe tbody tr th {\n",
              "        vertical-align: top;\n",
              "    }\n",
              "\n",
              "    .dataframe thead th {\n",
              "        text-align: right;\n",
              "    }\n",
              "</style>\n",
              "<table border=\"1\" class=\"dataframe\">\n",
              "  <thead>\n",
              "    <tr style=\"text-align: right;\">\n",
              "      <th></th>\n",
              "      <th>timestamp</th>\n",
              "      <th>latitude</th>\n",
              "      <th>longitude</th>\n",
              "      <th>speed</th>\n",
              "      <th>accelerometerX</th>\n",
              "      <th>accelerometerY</th>\n",
              "      <th>accelerometerZ</th>\n",
              "      <th>gyroX</th>\n",
              "      <th>gyroY</th>\n",
              "      <th>gyroZ</th>\n",
              "      <th>label</th>\n",
              "    </tr>\n",
              "  </thead>\n",
              "  <tbody>\n",
              "    <tr>\n",
              "      <th>0</th>\n",
              "      <td>1.492618e+09</td>\n",
              "      <td>40.479540</td>\n",
              "      <td>-79.922397</td>\n",
              "      <td>1.17</td>\n",
              "      <td>-0.030884</td>\n",
              "      <td>-0.852554</td>\n",
              "      <td>0.499725</td>\n",
              "      <td>-0.030093</td>\n",
              "      <td>-0.089149</td>\n",
              "      <td>0.048968</td>\n",
              "      <td>0</td>\n",
              "    </tr>\n",
              "    <tr>\n",
              "      <th>1</th>\n",
              "      <td>1.492618e+09</td>\n",
              "      <td>40.479540</td>\n",
              "      <td>-79.922397</td>\n",
              "      <td>1.17</td>\n",
              "      <td>0.018356</td>\n",
              "      <td>-0.918076</td>\n",
              "      <td>0.301804</td>\n",
              "      <td>-0.046515</td>\n",
              "      <td>-0.044369</td>\n",
              "      <td>0.028426</td>\n",
              "      <td>0</td>\n",
              "    </tr>\n",
              "    <tr>\n",
              "      <th>2</th>\n",
              "      <td>1.492618e+09</td>\n",
              "      <td>40.479540</td>\n",
              "      <td>-79.922397</td>\n",
              "      <td>1.17</td>\n",
              "      <td>0.180893</td>\n",
              "      <td>-0.925156</td>\n",
              "      <td>0.432632</td>\n",
              "      <td>-0.040333</td>\n",
              "      <td>0.055567</td>\n",
              "      <td>-0.057066</td>\n",
              "      <td>0</td>\n",
              "    </tr>\n",
              "    <tr>\n",
              "      <th>3</th>\n",
              "      <td>1.492618e+09</td>\n",
              "      <td>40.479521</td>\n",
              "      <td>-79.922406</td>\n",
              "      <td>2.45</td>\n",
              "      <td>-0.196838</td>\n",
              "      <td>-0.942047</td>\n",
              "      <td>0.452545</td>\n",
              "      <td>0.015845</td>\n",
              "      <td>-0.163904</td>\n",
              "      <td>0.075220</td>\n",
              "      <td>0</td>\n",
              "    </tr>\n",
              "    <tr>\n",
              "      <th>4</th>\n",
              "      <td>1.492618e+09</td>\n",
              "      <td>40.479521</td>\n",
              "      <td>-79.922406</td>\n",
              "      <td>2.45</td>\n",
              "      <td>-0.043716</td>\n",
              "      <td>-0.887177</td>\n",
              "      <td>0.410736</td>\n",
              "      <td>-0.048418</td>\n",
              "      <td>-0.120941</td>\n",
              "      <td>0.047796</td>\n",
              "      <td>0</td>\n",
              "    </tr>\n",
              "  </tbody>\n",
              "</table>\n",
              "</div>"
            ],
            "text/plain": [
              "      timestamp   latitude  longitude  ...     gyroY     gyroZ  label\n",
              "0  1.492618e+09  40.479540 -79.922397  ... -0.089149  0.048968      0\n",
              "1  1.492618e+09  40.479540 -79.922397  ... -0.044369  0.028426      0\n",
              "2  1.492618e+09  40.479540 -79.922397  ...  0.055567 -0.057066      0\n",
              "3  1.492618e+09  40.479521 -79.922406  ... -0.163904  0.075220      0\n",
              "4  1.492618e+09  40.479521 -79.922406  ... -0.120941  0.047796      0\n",
              "\n",
              "[5 rows x 11 columns]"
            ]
          },
          "metadata": {
            "tags": []
          },
          "execution_count": 97
        }
      ]
    },
    {
      "cell_type": "code",
      "metadata": {
        "colab": {
          "base_uri": "https://localhost:8080/",
          "height": 204
        },
        "id": "PQZDe26yU9qL",
        "outputId": "289032f0-097e-458b-de37-5ad8cd872b35"
      },
      "source": [
        "DataSet=DataSet.drop(['timestamp','latitude','longitude','speed'],axis=1)\n",
        "DataSet.head()"
      ],
      "execution_count": 98,
      "outputs": [
        {
          "output_type": "execute_result",
          "data": {
            "text/html": [
              "<div>\n",
              "<style scoped>\n",
              "    .dataframe tbody tr th:only-of-type {\n",
              "        vertical-align: middle;\n",
              "    }\n",
              "\n",
              "    .dataframe tbody tr th {\n",
              "        vertical-align: top;\n",
              "    }\n",
              "\n",
              "    .dataframe thead th {\n",
              "        text-align: right;\n",
              "    }\n",
              "</style>\n",
              "<table border=\"1\" class=\"dataframe\">\n",
              "  <thead>\n",
              "    <tr style=\"text-align: right;\">\n",
              "      <th></th>\n",
              "      <th>accelerometerX</th>\n",
              "      <th>accelerometerY</th>\n",
              "      <th>accelerometerZ</th>\n",
              "      <th>gyroX</th>\n",
              "      <th>gyroY</th>\n",
              "      <th>gyroZ</th>\n",
              "      <th>label</th>\n",
              "    </tr>\n",
              "  </thead>\n",
              "  <tbody>\n",
              "    <tr>\n",
              "      <th>0</th>\n",
              "      <td>-0.030884</td>\n",
              "      <td>-0.852554</td>\n",
              "      <td>0.499725</td>\n",
              "      <td>-0.030093</td>\n",
              "      <td>-0.089149</td>\n",
              "      <td>0.048968</td>\n",
              "      <td>0</td>\n",
              "    </tr>\n",
              "    <tr>\n",
              "      <th>1</th>\n",
              "      <td>0.018356</td>\n",
              "      <td>-0.918076</td>\n",
              "      <td>0.301804</td>\n",
              "      <td>-0.046515</td>\n",
              "      <td>-0.044369</td>\n",
              "      <td>0.028426</td>\n",
              "      <td>0</td>\n",
              "    </tr>\n",
              "    <tr>\n",
              "      <th>2</th>\n",
              "      <td>0.180893</td>\n",
              "      <td>-0.925156</td>\n",
              "      <td>0.432632</td>\n",
              "      <td>-0.040333</td>\n",
              "      <td>0.055567</td>\n",
              "      <td>-0.057066</td>\n",
              "      <td>0</td>\n",
              "    </tr>\n",
              "    <tr>\n",
              "      <th>3</th>\n",
              "      <td>-0.196838</td>\n",
              "      <td>-0.942047</td>\n",
              "      <td>0.452545</td>\n",
              "      <td>0.015845</td>\n",
              "      <td>-0.163904</td>\n",
              "      <td>0.075220</td>\n",
              "      <td>0</td>\n",
              "    </tr>\n",
              "    <tr>\n",
              "      <th>4</th>\n",
              "      <td>-0.043716</td>\n",
              "      <td>-0.887177</td>\n",
              "      <td>0.410736</td>\n",
              "      <td>-0.048418</td>\n",
              "      <td>-0.120941</td>\n",
              "      <td>0.047796</td>\n",
              "      <td>0</td>\n",
              "    </tr>\n",
              "  </tbody>\n",
              "</table>\n",
              "</div>"
            ],
            "text/plain": [
              "   accelerometerX  accelerometerY  accelerometerZ  ...     gyroY     gyroZ  label\n",
              "0       -0.030884       -0.852554        0.499725  ... -0.089149  0.048968      0\n",
              "1        0.018356       -0.918076        0.301804  ... -0.044369  0.028426      0\n",
              "2        0.180893       -0.925156        0.432632  ...  0.055567 -0.057066      0\n",
              "3       -0.196838       -0.942047        0.452545  ... -0.163904  0.075220      0\n",
              "4       -0.043716       -0.887177        0.410736  ... -0.120941  0.047796      0\n",
              "\n",
              "[5 rows x 7 columns]"
            ]
          },
          "metadata": {
            "tags": []
          },
          "execution_count": 98
        }
      ]
    }
  ]
}